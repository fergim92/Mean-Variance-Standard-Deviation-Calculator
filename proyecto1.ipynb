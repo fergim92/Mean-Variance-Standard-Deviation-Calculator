{
 "cells": [
  {
   "cell_type": "code",
   "execution_count": 3,
   "metadata": {},
   "outputs": [],
   "source": [
    "import numpy as np\n",
    "\n",
    "list = [0,1,2,3,4,5,6,7,8]\n",
    "\n",
    "lista_3x3 = np.reshape(list, (3,3))"
   ]
  },
  {
   "cell_type": "code",
   "execution_count": 5,
   "metadata": {},
   "outputs": [
    {
     "data": {
      "text/plain": [
       "array([[0, 1, 2],\n",
       "       [3, 4, 5],\n",
       "       [6, 7, 8]])"
      ]
     },
     "execution_count": 5,
     "metadata": {},
     "output_type": "execute_result"
    }
   ],
   "source": [
    "lista_3x3"
   ]
  },
  {
   "cell_type": "code",
   "execution_count": 22,
   "metadata": {},
   "outputs": [
    {
     "ename": "SyntaxError",
     "evalue": "invalid syntax. Maybe you meant '==' or ':=' instead of '='? (754415506.py, line 1)",
     "output_type": "error",
     "traceback": [
      "\u001b[1;36m  Cell \u001b[1;32mIn[22], line 1\u001b[1;36m\u001b[0m\n\u001b[1;33m    lista_3x3[(axis=0)]\u001b[0m\n\u001b[1;37m               ^\u001b[0m\n\u001b[1;31mSyntaxError\u001b[0m\u001b[1;31m:\u001b[0m invalid syntax. Maybe you meant '==' or ':=' instead of '='?\n"
     ]
    }
   ],
   "source": [
    "lista_3x3[(axis=0)]"
   ]
  },
  {
   "cell_type": "code",
   "execution_count": 4,
   "metadata": {},
   "outputs": [
    {
     "data": {
      "text/plain": [
       "1"
      ]
     },
     "execution_count": 4,
     "metadata": {},
     "output_type": "execute_result"
    }
   ],
   "source": [
    "lista_3x3[0][1]"
   ]
  },
  {
   "cell_type": "code",
   "execution_count": 19,
   "metadata": {},
   "outputs": [
    {
     "data": {
      "text/plain": [
       "36"
      ]
     },
     "execution_count": 19,
     "metadata": {},
     "output_type": "execute_result"
    }
   ],
   "source": [
    "suma_columna_0 = lista_3x3[:,0].sum()\n",
    "suma_columna_1 = lista_3x3[:,1].sum()\n",
    "suma_columna_2 = lista_3x3[:,2].sum()\n",
    "\n",
    "suma_fila_0 = lista_3x3[:1,:].sum()\n",
    "suma_fila_1 = lista_3x3[1:2,:].sum()\n",
    "suma_fila_2 = lista_3x3[2:3,:].sum()\n",
    "\n",
    "suma_completa = lista_3x3.sum()\n",
    "\n"
   ]
  },
  {
   "cell_type": "code",
   "execution_count": 20,
   "metadata": {},
   "outputs": [],
   "source": [
    "varianza_columna_0 = lista_3x3[:, 0].var()\n",
    "varianza_columna_1 = lista_3x3[:, 1].var()\n",
    "varianza_columna_2 = lista_3x3[:, 2].var()\n",
    "\n",
    "varianza_fila_0 = lista_3x3[0, :].var()\n",
    "varianza_fila_1 = lista_3x3[1, :].var()\n",
    "varianza_fila_2 = lista_3x3[2, :].var()\n",
    "\n",
    "varianza_completa = lista_3x3.var()\n"
   ]
  },
  {
   "cell_type": "code",
   "execution_count": null,
   "metadata": {},
   "outputs": [],
   "source": [
    "min_columna_0 = lista_3x3[:, 0].min()\n",
    "min_columna_1 = lista_3x3[:, 1].min()\n",
    "min_columna_2 = lista_3x3[:, 2].min()\n",
    "\n",
    "min_fila_0 = lista_3x3[0, :].min()\n",
    "min_fila_1 = lista_3x3[1, :].min()\n",
    "min_fila_2 = lista_3x3[2, :].min()\n",
    "\n",
    "min_completo = lista_3x3.min()\n"
   ]
  },
  {
   "cell_type": "code",
   "execution_count": 25,
   "metadata": {},
   "outputs": [
    {
     "data": {
      "text/plain": [
       "array([0, 3, 6])"
      ]
     },
     "execution_count": 25,
     "metadata": {},
     "output_type": "execute_result"
    }
   ],
   "source": [
    "min_columnas = lista_3x3.min(axis=0)\n",
    "min_filas = lista_3x3.min(axis=1)\n",
    "min_filas"
   ]
  }
 ],
 "metadata": {
  "kernelspec": {
   "display_name": "Python 3",
   "language": "python",
   "name": "python3"
  },
  "language_info": {
   "codemirror_mode": {
    "name": "ipython",
    "version": 3
   },
   "file_extension": ".py",
   "mimetype": "text/x-python",
   "name": "python",
   "nbconvert_exporter": "python",
   "pygments_lexer": "ipython3",
   "version": "3.11.4"
  },
  "orig_nbformat": 4
 },
 "nbformat": 4,
 "nbformat_minor": 2
}
